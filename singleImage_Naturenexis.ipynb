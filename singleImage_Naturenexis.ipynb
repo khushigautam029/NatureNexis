{
  "nbformat": 4,
  "nbformat_minor": 0,
  "metadata": {
    "colab": {
      "provenance": []
    },
    "kernelspec": {
      "name": "python3",
      "display_name": "Python 3"
    },
    "language_info": {
      "name": "python"
    }
  },
  "cells": [
    {
      "cell_type": "code",
      "source": [
        "# Step 1: Install required libraries\n",
        "!pip install opencv-python\n",
        "\n",
        "# Step 2: Import necessary libraries\n",
        "import cv2\n",
        "from cv2 import dnn_superres\n",
        "import os\n",
        "\n",
        "# Step 3: Function to validate paths\n",
        "def validate_path(path, is_directory=False):\n",
        "    if not os.path.exists(path):\n",
        "        raise FileNotFoundError(f\"Path does not exist: {path}\")\n",
        "    if is_directory and not os.path.isdir(path):\n",
        "        raise NotADirectoryError(f\"Expected a directory, but got a file: {path}\")\n",
        "    return path\n",
        "\n",
        "# Step 4: Mount Google Drive to access files\n",
        "from google.colab import drive\n",
        "drive.mount('/content/drive')\n",
        "\n",
        "# Step 5: Define paths for input/output\n",
        "input_image = \"/content/drive/MyDrive/singleImage_SR/input_image/sheep.jpg\"\n",
        "enhanced_folder = \"/content/drive/MyDrive/singleImage_SR/enhanced_image/\"\n",
        "os.makedirs(enhanced_folder, exist_ok=True)  # Create folder if it doesn't exist\n",
        "enhanced_output = os.path.join(enhanced_folder, \"enhanced_sample.jpg\")\n",
        "\n",
        "# Step 6: Load the FSRCNN model\n",
        "sr = dnn_superres.DnnSuperResImpl_create()\n",
        "model_path = '/content/drive/MyDrive/singleImage_SR/FSRCNN_x4.pb'\n",
        "validate_path(model_path)\n",
        "sr.readModel(model_path)\n",
        "sr.setModel('fsrcnn', 4)\n",
        "\n",
        "# ✅ Step 7: Force OpenCV to use CPU instead of CUDA\n",
        "sr.setPreferableBackend(cv2.dnn.DNN_BACKEND_DEFAULT)\n",
        "sr.setPreferableTarget(cv2.dnn.DNN_TARGET_CPU)\n",
        "print(\"Using CPU for Super-Resolution (CUDA disabled)\")\n",
        "\n",
        "# Step 8: Function to enhance an image\n",
        "def enhance_image(image_path, output_path):\n",
        "    validate_path(image_path)\n",
        "    image = cv2.imread(image_path)\n",
        "    if image is None:\n",
        "        raise ValueError(\"Error: Could not load image.\")\n",
        "\n",
        "    upscaled_image = sr.upsample(image)\n",
        "    cv2.imwrite(output_path, upscaled_image)\n",
        "    print(f\"✅ Enhanced image saved to: {output_path}\")\n",
        "\n",
        "# Step 9: Run the enhancement\n",
        "enhance_image(input_image, enhanced_output)\n"
      ],
      "metadata": {
        "colab": {
          "base_uri": "https://localhost:8080/"
        },
        "id": "n3NKBH7OnxTY",
        "outputId": "527243a8-a6a2-4c11-9fec-58a5c3ae06d8"
      },
      "execution_count": 21,
      "outputs": [
        {
          "output_type": "stream",
          "name": "stdout",
          "text": [
            "Requirement already satisfied: opencv-python in /usr/local/lib/python3.11/dist-packages (4.11.0.86)\n",
            "Requirement already satisfied: numpy>=1.21.2 in /usr/local/lib/python3.11/dist-packages (from opencv-python) (1.26.4)\n",
            "Drive already mounted at /content/drive; to attempt to forcibly remount, call drive.mount(\"/content/drive\", force_remount=True).\n",
            "Using CPU for Super-Resolution (CUDA disabled)\n",
            "✅ Enhanced image saved to: /content/drive/MyDrive/singleImage_SR/enhanced_image/enhanced_sample.jpg\n"
          ]
        }
      ]
    },
    {
      "cell_type": "code",
      "source": [
        "# Step 1: Install necessary libraries\n",
        "!pip install ultralytics opencv-python\n",
        "\n",
        "# Step 2: Import required libraries\n",
        "from ultralytics import YOLO\n",
        "import cv2\n",
        "import os\n",
        "\n",
        "# Step 3: Mount Google Drive to access files\n",
        "from google.colab import drive\n",
        "drive.mount('/content/drive')\n",
        "\n",
        "# Step 4: Define paths\n",
        "enhanced_image = \"/content/drive/MyDrive/singleImage_SR/enhanced_image/enhanced_sample.jpg\"\n",
        "detected_folder = \"/content/drive/MyDrive/singleImage_SR/detected_image/\"\n",
        "os.makedirs(detected_folder, exist_ok=True)  # Create folder if it doesn't exist\n",
        "detected_output = os.path.join(detected_folder, \"detected_sample.jpg\")\n",
        "\n",
        "# Step 5: Function to detect animals using YOLO\n",
        "def detect_animals(image_path, output_path, conf_threshold=0.3, device=\"cuda\"):\n",
        "    model = YOLO(\"yolov8n.pt\")\n",
        "\n",
        "    # ✅ Use CPU if CUDA is unavailable\n",
        "    if device == \"cuda\":\n",
        "        import torch\n",
        "        if not torch.cuda.is_available():\n",
        "            print(\"CUDA not available. Switching to CPU.\")\n",
        "            device = \"cpu\"\n",
        "\n",
        "    results = model.predict(source=image_path, conf=conf_threshold, device=device, save=False, show=False)\n",
        "    annotated_image = results[0].plot()\n",
        "    cv2.imwrite(output_path, annotated_image)\n",
        "    print(f\"✅ Detection completed. Saved to: {output_path}\")\n",
        "\n",
        "# Step 6: Run animal detection\n",
        "detect_animals(enhanced_image, detected_output)\n"
      ],
      "metadata": {
        "colab": {
          "base_uri": "https://localhost:8080/"
        },
        "id": "I29nM0FzruWl",
        "outputId": "4cc25b0a-8162-41d2-cbde-402a7bcb6572"
      },
      "execution_count": 22,
      "outputs": [
        {
          "output_type": "stream",
          "name": "stdout",
          "text": [
            "Requirement already satisfied: ultralytics in /usr/local/lib/python3.11/dist-packages (8.3.70)\n",
            "Requirement already satisfied: opencv-python in /usr/local/lib/python3.11/dist-packages (4.11.0.86)\n",
            "Requirement already satisfied: numpy<=2.1.1,>=1.23.0 in /usr/local/lib/python3.11/dist-packages (from ultralytics) (1.26.4)\n",
            "Requirement already satisfied: matplotlib>=3.3.0 in /usr/local/lib/python3.11/dist-packages (from ultralytics) (3.10.0)\n",
            "Requirement already satisfied: pillow>=7.1.2 in /usr/local/lib/python3.11/dist-packages (from ultralytics) (11.1.0)\n",
            "Requirement already satisfied: pyyaml>=5.3.1 in /usr/local/lib/python3.11/dist-packages (from ultralytics) (6.0.2)\n",
            "Requirement already satisfied: requests>=2.23.0 in /usr/local/lib/python3.11/dist-packages (from ultralytics) (2.32.3)\n",
            "Requirement already satisfied: scipy>=1.4.1 in /usr/local/lib/python3.11/dist-packages (from ultralytics) (1.13.1)\n",
            "Requirement already satisfied: torch>=1.8.0 in /usr/local/lib/python3.11/dist-packages (from ultralytics) (2.5.1+cu124)\n",
            "Requirement already satisfied: torchvision>=0.9.0 in /usr/local/lib/python3.11/dist-packages (from ultralytics) (0.20.1+cu124)\n",
            "Requirement already satisfied: tqdm>=4.64.0 in /usr/local/lib/python3.11/dist-packages (from ultralytics) (4.67.1)\n",
            "Requirement already satisfied: psutil in /usr/local/lib/python3.11/dist-packages (from ultralytics) (5.9.5)\n",
            "Requirement already satisfied: py-cpuinfo in /usr/local/lib/python3.11/dist-packages (from ultralytics) (9.0.0)\n",
            "Requirement already satisfied: pandas>=1.1.4 in /usr/local/lib/python3.11/dist-packages (from ultralytics) (2.2.2)\n",
            "Requirement already satisfied: seaborn>=0.11.0 in /usr/local/lib/python3.11/dist-packages (from ultralytics) (0.13.2)\n",
            "Requirement already satisfied: ultralytics-thop>=2.0.0 in /usr/local/lib/python3.11/dist-packages (from ultralytics) (2.0.14)\n",
            "Requirement already satisfied: contourpy>=1.0.1 in /usr/local/lib/python3.11/dist-packages (from matplotlib>=3.3.0->ultralytics) (1.3.1)\n",
            "Requirement already satisfied: cycler>=0.10 in /usr/local/lib/python3.11/dist-packages (from matplotlib>=3.3.0->ultralytics) (0.12.1)\n",
            "Requirement already satisfied: fonttools>=4.22.0 in /usr/local/lib/python3.11/dist-packages (from matplotlib>=3.3.0->ultralytics) (4.55.7)\n",
            "Requirement already satisfied: kiwisolver>=1.3.1 in /usr/local/lib/python3.11/dist-packages (from matplotlib>=3.3.0->ultralytics) (1.4.8)\n",
            "Requirement already satisfied: packaging>=20.0 in /usr/local/lib/python3.11/dist-packages (from matplotlib>=3.3.0->ultralytics) (24.2)\n",
            "Requirement already satisfied: pyparsing>=2.3.1 in /usr/local/lib/python3.11/dist-packages (from matplotlib>=3.3.0->ultralytics) (3.2.1)\n",
            "Requirement already satisfied: python-dateutil>=2.7 in /usr/local/lib/python3.11/dist-packages (from matplotlib>=3.3.0->ultralytics) (2.8.2)\n",
            "Requirement already satisfied: pytz>=2020.1 in /usr/local/lib/python3.11/dist-packages (from pandas>=1.1.4->ultralytics) (2024.2)\n",
            "Requirement already satisfied: tzdata>=2022.7 in /usr/local/lib/python3.11/dist-packages (from pandas>=1.1.4->ultralytics) (2025.1)\n",
            "Requirement already satisfied: charset-normalizer<4,>=2 in /usr/local/lib/python3.11/dist-packages (from requests>=2.23.0->ultralytics) (3.4.1)\n",
            "Requirement already satisfied: idna<4,>=2.5 in /usr/local/lib/python3.11/dist-packages (from requests>=2.23.0->ultralytics) (3.10)\n",
            "Requirement already satisfied: urllib3<3,>=1.21.1 in /usr/local/lib/python3.11/dist-packages (from requests>=2.23.0->ultralytics) (2.3.0)\n",
            "Requirement already satisfied: certifi>=2017.4.17 in /usr/local/lib/python3.11/dist-packages (from requests>=2.23.0->ultralytics) (2024.12.14)\n",
            "Requirement already satisfied: filelock in /usr/local/lib/python3.11/dist-packages (from torch>=1.8.0->ultralytics) (3.17.0)\n",
            "Requirement already satisfied: typing-extensions>=4.8.0 in /usr/local/lib/python3.11/dist-packages (from torch>=1.8.0->ultralytics) (4.12.2)\n",
            "Requirement already satisfied: networkx in /usr/local/lib/python3.11/dist-packages (from torch>=1.8.0->ultralytics) (3.4.2)\n",
            "Requirement already satisfied: jinja2 in /usr/local/lib/python3.11/dist-packages (from torch>=1.8.0->ultralytics) (3.1.5)\n",
            "Requirement already satisfied: fsspec in /usr/local/lib/python3.11/dist-packages (from torch>=1.8.0->ultralytics) (2024.10.0)\n",
            "Requirement already satisfied: nvidia-cuda-nvrtc-cu12==12.4.127 in /usr/local/lib/python3.11/dist-packages (from torch>=1.8.0->ultralytics) (12.4.127)\n",
            "Requirement already satisfied: nvidia-cuda-runtime-cu12==12.4.127 in /usr/local/lib/python3.11/dist-packages (from torch>=1.8.0->ultralytics) (12.4.127)\n",
            "Requirement already satisfied: nvidia-cuda-cupti-cu12==12.4.127 in /usr/local/lib/python3.11/dist-packages (from torch>=1.8.0->ultralytics) (12.4.127)\n",
            "Requirement already satisfied: nvidia-cudnn-cu12==9.1.0.70 in /usr/local/lib/python3.11/dist-packages (from torch>=1.8.0->ultralytics) (9.1.0.70)\n",
            "Requirement already satisfied: nvidia-cublas-cu12==12.4.5.8 in /usr/local/lib/python3.11/dist-packages (from torch>=1.8.0->ultralytics) (12.4.5.8)\n",
            "Requirement already satisfied: nvidia-cufft-cu12==11.2.1.3 in /usr/local/lib/python3.11/dist-packages (from torch>=1.8.0->ultralytics) (11.2.1.3)\n",
            "Requirement already satisfied: nvidia-curand-cu12==10.3.5.147 in /usr/local/lib/python3.11/dist-packages (from torch>=1.8.0->ultralytics) (10.3.5.147)\n",
            "Requirement already satisfied: nvidia-cusolver-cu12==11.6.1.9 in /usr/local/lib/python3.11/dist-packages (from torch>=1.8.0->ultralytics) (11.6.1.9)\n",
            "Requirement already satisfied: nvidia-cusparse-cu12==12.3.1.170 in /usr/local/lib/python3.11/dist-packages (from torch>=1.8.0->ultralytics) (12.3.1.170)\n",
            "Requirement already satisfied: nvidia-nccl-cu12==2.21.5 in /usr/local/lib/python3.11/dist-packages (from torch>=1.8.0->ultralytics) (2.21.5)\n",
            "Requirement already satisfied: nvidia-nvtx-cu12==12.4.127 in /usr/local/lib/python3.11/dist-packages (from torch>=1.8.0->ultralytics) (12.4.127)\n",
            "Requirement already satisfied: nvidia-nvjitlink-cu12==12.4.127 in /usr/local/lib/python3.11/dist-packages (from torch>=1.8.0->ultralytics) (12.4.127)\n",
            "Requirement already satisfied: triton==3.1.0 in /usr/local/lib/python3.11/dist-packages (from torch>=1.8.0->ultralytics) (3.1.0)\n",
            "Requirement already satisfied: sympy==1.13.1 in /usr/local/lib/python3.11/dist-packages (from torch>=1.8.0->ultralytics) (1.13.1)\n",
            "Requirement already satisfied: mpmath<1.4,>=1.1.0 in /usr/local/lib/python3.11/dist-packages (from sympy==1.13.1->torch>=1.8.0->ultralytics) (1.3.0)\n",
            "Requirement already satisfied: six>=1.5 in /usr/local/lib/python3.11/dist-packages (from python-dateutil>=2.7->matplotlib>=3.3.0->ultralytics) (1.17.0)\n",
            "Requirement already satisfied: MarkupSafe>=2.0 in /usr/local/lib/python3.11/dist-packages (from jinja2->torch>=1.8.0->ultralytics) (3.0.2)\n",
            "Drive already mounted at /content/drive; to attempt to forcibly remount, call drive.mount(\"/content/drive\", force_remount=True).\n",
            "CUDA not available. Switching to CPU.\n",
            "\n",
            "image 1/1 /content/drive/MyDrive/singleImage_SR/enhanced_image/enhanced_sample.jpg: 448x640 1 sheep, 194.5ms\n",
            "Speed: 10.2ms preprocess, 194.5ms inference, 1.4ms postprocess per image at shape (1, 3, 448, 640)\n",
            "✅ Detection completed. Saved to: /content/drive/MyDrive/singleImage_SR/detected_image/detected_sample.jpg\n"
          ]
        }
      ]
    }
  ]
}